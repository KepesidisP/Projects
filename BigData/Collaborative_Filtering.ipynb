{
 "cells": [
  {
   "cell_type": "markdown",
   "id": "359ba241",
   "metadata": {},
   "source": [
    "# Collaborative Filtering"
   ]
  },
  {
   "cell_type": "code",
   "execution_count": 1,
   "id": "155a2da3",
   "metadata": {},
   "outputs": [],
   "source": [
    "import pandas as pd\n",
    "from scipy.sparse import csr_matrix\n",
    "import numpy as np\n",
    "import re\n",
    "import time\n",
    "from sklearn.metrics.pairwise import cosine_similarity, pairwise_distances\n",
    "\n",
    "start_time = time.time()"
   ]
  },
  {
   "cell_type": "markdown",
   "id": "b21ac0e8",
   "metadata": {},
   "source": [
    "#### Read the anime dataset and rating dataset"
   ]
  },
  {
   "cell_type": "code",
   "execution_count": 2,
   "id": "ec091bee",
   "metadata": {},
   "outputs": [
    {
     "name": "stdout",
     "output_type": "stream",
     "text": [
      "Full anime dataset shape is  (12294, 7)\n",
      "Full rating dataset shape is  (7813737, 3)\n"
     ]
    }
   ],
   "source": [
    "anime_df=pd.read_csv(\"anime.csv\")\n",
    "rating_df=pd.read_csv(\"rating.csv\")\n",
    "\n",
    "print(\"Full anime dataset shape is \",anime_df.shape)\n",
    "print(\"Full rating dataset shape is \",rating_df.shape)"
   ]
  },
  {
   "cell_type": "markdown",
   "id": "0d29fdc6",
   "metadata": {},
   "source": [
    "#### Function to clean the text by removing specific patterns"
   ]
  },
  {
   "cell_type": "code",
   "execution_count": 3,
   "id": "b4ec782e",
   "metadata": {},
   "outputs": [],
   "source": [
    "def text_cleaning(text):\n",
    "    text = re.sub(r'&quot;', '', text)\n",
    "    text = re.sub(r'.hack//', '', text)\n",
    "    text = re.sub(r'&#039;', '', text)\n",
    "    text = re.sub(r'A&#039;s', '', text)\n",
    "    text = re.sub(r'I&#039;', 'I\\'', text)\n",
    "    text = re.sub(r'&amp;', 'and', text)\n",
    "    \n",
    "    return text"
   ]
  },
  {
   "cell_type": "code",
   "execution_count": 4,
   "id": "337ab283",
   "metadata": {},
   "outputs": [
    {
     "data": {
      "text/html": [
       "<div>\n",
       "<style scoped>\n",
       "    .dataframe tbody tr th:only-of-type {\n",
       "        vertical-align: middle;\n",
       "    }\n",
       "\n",
       "    .dataframe tbody tr th {\n",
       "        vertical-align: top;\n",
       "    }\n",
       "\n",
       "    .dataframe thead th {\n",
       "        text-align: right;\n",
       "    }\n",
       "</style>\n",
       "<table border=\"1\" class=\"dataframe\">\n",
       "  <thead>\n",
       "    <tr style=\"text-align: right;\">\n",
       "      <th></th>\n",
       "      <th>anime_id</th>\n",
       "      <th>name</th>\n",
       "      <th>genre</th>\n",
       "      <th>type</th>\n",
       "      <th>episodes</th>\n",
       "      <th>rating</th>\n",
       "      <th>members</th>\n",
       "    </tr>\n",
       "  </thead>\n",
       "  <tbody>\n",
       "    <tr>\n",
       "      <th>0</th>\n",
       "      <td>32281</td>\n",
       "      <td>Kimi no Na wa.</td>\n",
       "      <td>Drama, Romance, School, Supernatural</td>\n",
       "      <td>Movie</td>\n",
       "      <td>1</td>\n",
       "      <td>9.37</td>\n",
       "      <td>200630</td>\n",
       "    </tr>\n",
       "    <tr>\n",
       "      <th>1</th>\n",
       "      <td>5114</td>\n",
       "      <td>Fullmetal Alchemist: Brotherhood</td>\n",
       "      <td>Action, Adventure, Drama, Fantasy, Magic, Mili...</td>\n",
       "      <td>TV</td>\n",
       "      <td>64</td>\n",
       "      <td>9.26</td>\n",
       "      <td>793665</td>\n",
       "    </tr>\n",
       "    <tr>\n",
       "      <th>2</th>\n",
       "      <td>28977</td>\n",
       "      <td>Gintama°</td>\n",
       "      <td>Action, Comedy, Historical, Parody, Samurai, S...</td>\n",
       "      <td>TV</td>\n",
       "      <td>51</td>\n",
       "      <td>9.25</td>\n",
       "      <td>114262</td>\n",
       "    </tr>\n",
       "  </tbody>\n",
       "</table>\n",
       "</div>"
      ],
      "text/plain": [
       "   anime_id                              name  \\\n",
       "0     32281                    Kimi no Na wa.   \n",
       "1      5114  Fullmetal Alchemist: Brotherhood   \n",
       "2     28977                          Gintama°   \n",
       "\n",
       "                                               genre   type episodes  rating  \\\n",
       "0               Drama, Romance, School, Supernatural  Movie        1    9.37   \n",
       "1  Action, Adventure, Drama, Fantasy, Magic, Mili...     TV       64    9.26   \n",
       "2  Action, Comedy, Historical, Parody, Samurai, S...     TV       51    9.25   \n",
       "\n",
       "   members  \n",
       "0   200630  \n",
       "1   793665  \n",
       "2   114262  "
      ]
     },
     "execution_count": 4,
     "metadata": {},
     "output_type": "execute_result"
    }
   ],
   "source": [
    "anime_df.head(3)"
   ]
  },
  {
   "cell_type": "code",
   "execution_count": 5,
   "id": "68ae8a21",
   "metadata": {},
   "outputs": [
    {
     "data": {
      "text/html": [
       "<div>\n",
       "<style scoped>\n",
       "    .dataframe tbody tr th:only-of-type {\n",
       "        vertical-align: middle;\n",
       "    }\n",
       "\n",
       "    .dataframe tbody tr th {\n",
       "        vertical-align: top;\n",
       "    }\n",
       "\n",
       "    .dataframe thead th {\n",
       "        text-align: right;\n",
       "    }\n",
       "</style>\n",
       "<table border=\"1\" class=\"dataframe\">\n",
       "  <thead>\n",
       "    <tr style=\"text-align: right;\">\n",
       "      <th></th>\n",
       "      <th>user_id</th>\n",
       "      <th>anime_id</th>\n",
       "      <th>rating</th>\n",
       "    </tr>\n",
       "  </thead>\n",
       "  <tbody>\n",
       "    <tr>\n",
       "      <th>0</th>\n",
       "      <td>1</td>\n",
       "      <td>20</td>\n",
       "      <td>-1</td>\n",
       "    </tr>\n",
       "    <tr>\n",
       "      <th>1</th>\n",
       "      <td>1</td>\n",
       "      <td>24</td>\n",
       "      <td>-1</td>\n",
       "    </tr>\n",
       "    <tr>\n",
       "      <th>2</th>\n",
       "      <td>1</td>\n",
       "      <td>79</td>\n",
       "      <td>-1</td>\n",
       "    </tr>\n",
       "  </tbody>\n",
       "</table>\n",
       "</div>"
      ],
      "text/plain": [
       "   user_id  anime_id  rating\n",
       "0        1        20      -1\n",
       "1        1        24      -1\n",
       "2        1        79      -1"
      ]
     },
     "execution_count": 5,
     "metadata": {},
     "output_type": "execute_result"
    }
   ],
   "source": [
    "rating_df.head(3)"
   ]
  },
  {
   "cell_type": "code",
   "execution_count": 6,
   "id": "f8662d1c",
   "metadata": {},
   "outputs": [
    {
     "data": {
      "text/plain": [
       "anime_id      0\n",
       "name          0\n",
       "genre        62\n",
       "type         25\n",
       "episodes      0\n",
       "rating      230\n",
       "members       0\n",
       "dtype: int64"
      ]
     },
     "execution_count": 6,
     "metadata": {},
     "output_type": "execute_result"
    }
   ],
   "source": [
    "anime_df.isnull().sum()"
   ]
  },
  {
   "cell_type": "code",
   "execution_count": 7,
   "id": "f0e2c5f0",
   "metadata": {},
   "outputs": [
    {
     "data": {
      "text/plain": [
       "user_id     0\n",
       "anime_id    0\n",
       "rating      0\n",
       "dtype: int64"
      ]
     },
     "execution_count": 7,
     "metadata": {},
     "output_type": "execute_result"
    }
   ],
   "source": [
    "rating_df.isnull().sum()"
   ]
  },
  {
   "cell_type": "code",
   "execution_count": 8,
   "id": "a3eb7c9f",
   "metadata": {},
   "outputs": [
    {
     "data": {
      "text/plain": [
       "73515"
      ]
     },
     "execution_count": 8,
     "metadata": {},
     "output_type": "execute_result"
    }
   ],
   "source": [
    "len(rating_df['user_id'].unique()) "
   ]
  },
  {
   "cell_type": "markdown",
   "id": "7359feca",
   "metadata": {},
   "source": [
    "#### Drop unnecessary columns from the anime dataset"
   ]
  },
  {
   "cell_type": "code",
   "execution_count": 9,
   "id": "d9df16c8",
   "metadata": {},
   "outputs": [
    {
     "data": {
      "text/html": [
       "<div>\n",
       "<style scoped>\n",
       "    .dataframe tbody tr th:only-of-type {\n",
       "        vertical-align: middle;\n",
       "    }\n",
       "\n",
       "    .dataframe tbody tr th {\n",
       "        vertical-align: top;\n",
       "    }\n",
       "\n",
       "    .dataframe thead th {\n",
       "        text-align: right;\n",
       "    }\n",
       "</style>\n",
       "<table border=\"1\" class=\"dataframe\">\n",
       "  <thead>\n",
       "    <tr style=\"text-align: right;\">\n",
       "      <th></th>\n",
       "      <th>anime_id</th>\n",
       "      <th>name</th>\n",
       "      <th>genre</th>\n",
       "      <th>rating</th>\n",
       "    </tr>\n",
       "  </thead>\n",
       "  <tbody>\n",
       "    <tr>\n",
       "      <th>0</th>\n",
       "      <td>32281</td>\n",
       "      <td>Kimi no Na wa.</td>\n",
       "      <td>Drama, Romance, School, Supernatural</td>\n",
       "      <td>9.37</td>\n",
       "    </tr>\n",
       "    <tr>\n",
       "      <th>1</th>\n",
       "      <td>5114</td>\n",
       "      <td>Fullmetal Alchemist: Brotherhood</td>\n",
       "      <td>Action, Adventure, Drama, Fantasy, Magic, Mili...</td>\n",
       "      <td>9.26</td>\n",
       "    </tr>\n",
       "    <tr>\n",
       "      <th>2</th>\n",
       "      <td>28977</td>\n",
       "      <td>Gintama°</td>\n",
       "      <td>Action, Comedy, Historical, Parody, Samurai, S...</td>\n",
       "      <td>9.25</td>\n",
       "    </tr>\n",
       "    <tr>\n",
       "      <th>3</th>\n",
       "      <td>9253</td>\n",
       "      <td>Steins;Gate</td>\n",
       "      <td>Sci-Fi, Thriller</td>\n",
       "      <td>9.17</td>\n",
       "    </tr>\n",
       "    <tr>\n",
       "      <th>4</th>\n",
       "      <td>9969</td>\n",
       "      <td>Gintama&amp;#039;</td>\n",
       "      <td>Action, Comedy, Historical, Parody, Samurai, S...</td>\n",
       "      <td>9.16</td>\n",
       "    </tr>\n",
       "  </tbody>\n",
       "</table>\n",
       "</div>"
      ],
      "text/plain": [
       "   anime_id                              name  \\\n",
       "0     32281                    Kimi no Na wa.   \n",
       "1      5114  Fullmetal Alchemist: Brotherhood   \n",
       "2     28977                          Gintama°   \n",
       "3      9253                       Steins;Gate   \n",
       "4      9969                     Gintama&#039;   \n",
       "\n",
       "                                               genre  rating  \n",
       "0               Drama, Romance, School, Supernatural    9.37  \n",
       "1  Action, Adventure, Drama, Fantasy, Magic, Mili...    9.26  \n",
       "2  Action, Comedy, Historical, Parody, Samurai, S...    9.25  \n",
       "3                                   Sci-Fi, Thriller    9.17  \n",
       "4  Action, Comedy, Historical, Parody, Samurai, S...    9.16  "
      ]
     },
     "execution_count": 9,
     "metadata": {},
     "output_type": "execute_result"
    }
   ],
   "source": [
    "anime_df=anime_df.drop(['members','type','episodes'], axis=1)\n",
    "anime_df.head()"
   ]
  },
  {
   "cell_type": "markdown",
   "id": "a4b8992a",
   "metadata": {},
   "source": [
    "#### Apply text cleaning to the 'name' column in the anime dataset"
   ]
  },
  {
   "cell_type": "code",
   "execution_count": 10,
   "id": "b73a1502",
   "metadata": {},
   "outputs": [],
   "source": [
    "anime_df['name'] = anime_df['name'].apply(text_cleaning)"
   ]
  },
  {
   "cell_type": "code",
   "execution_count": 11,
   "id": "81406710",
   "metadata": {},
   "outputs": [
    {
     "data": {
      "text/plain": [
       "anime_id         0\n",
       "name             0\n",
       "genre          110\n",
       "rating           6\n",
       "user_id          0\n",
       "rating_user      0\n",
       "dtype: int64"
      ]
     },
     "execution_count": 11,
     "metadata": {},
     "output_type": "execute_result"
    }
   ],
   "source": [
    "merged_data=pd.merge(anime_df,rating_df,on='anime_id',suffixes= ['', '_user'])\n",
    "merged_data.isnull().sum()"
   ]
  },
  {
   "cell_type": "code",
   "execution_count": 12,
   "id": "44c7d7f5",
   "metadata": {},
   "outputs": [
    {
     "data": {
      "text/html": [
       "<div>\n",
       "<style scoped>\n",
       "    .dataframe tbody tr th:only-of-type {\n",
       "        vertical-align: middle;\n",
       "    }\n",
       "\n",
       "    .dataframe tbody tr th {\n",
       "        vertical-align: top;\n",
       "    }\n",
       "\n",
       "    .dataframe thead th {\n",
       "        text-align: right;\n",
       "    }\n",
       "</style>\n",
       "<table border=\"1\" class=\"dataframe\">\n",
       "  <thead>\n",
       "    <tr style=\"text-align: right;\">\n",
       "      <th></th>\n",
       "      <th>anime_id</th>\n",
       "      <th>name</th>\n",
       "      <th>genre</th>\n",
       "      <th>rating</th>\n",
       "      <th>user_id</th>\n",
       "      <th>rating_user</th>\n",
       "    </tr>\n",
       "  </thead>\n",
       "  <tbody>\n",
       "    <tr>\n",
       "      <th>0</th>\n",
       "      <td>32281</td>\n",
       "      <td>Kimi no Na wa.</td>\n",
       "      <td>Drama, Romance, School, Supernatural</td>\n",
       "      <td>9.37</td>\n",
       "      <td>99</td>\n",
       "      <td>5</td>\n",
       "    </tr>\n",
       "    <tr>\n",
       "      <th>1</th>\n",
       "      <td>32281</td>\n",
       "      <td>Kimi no Na wa.</td>\n",
       "      <td>Drama, Romance, School, Supernatural</td>\n",
       "      <td>9.37</td>\n",
       "      <td>152</td>\n",
       "      <td>10</td>\n",
       "    </tr>\n",
       "    <tr>\n",
       "      <th>2</th>\n",
       "      <td>32281</td>\n",
       "      <td>Kimi no Na wa.</td>\n",
       "      <td>Drama, Romance, School, Supernatural</td>\n",
       "      <td>9.37</td>\n",
       "      <td>244</td>\n",
       "      <td>10</td>\n",
       "    </tr>\n",
       "  </tbody>\n",
       "</table>\n",
       "</div>"
      ],
      "text/plain": [
       "   anime_id            name                                 genre  rating  \\\n",
       "0     32281  Kimi no Na wa.  Drama, Romance, School, Supernatural    9.37   \n",
       "1     32281  Kimi no Na wa.  Drama, Romance, School, Supernatural    9.37   \n",
       "2     32281  Kimi no Na wa.  Drama, Romance, School, Supernatural    9.37   \n",
       "\n",
       "   user_id  rating_user  \n",
       "0       99            5  \n",
       "1      152           10  \n",
       "2      244           10  "
      ]
     },
     "execution_count": 12,
     "metadata": {},
     "output_type": "execute_result"
    }
   ],
   "source": [
    "merged_data.head(3)"
   ]
  },
  {
   "cell_type": "code",
   "execution_count": 13,
   "id": "58ca54d7",
   "metadata": {},
   "outputs": [
    {
     "data": {
      "text/html": [
       "<div>\n",
       "<style scoped>\n",
       "    .dataframe tbody tr th:only-of-type {\n",
       "        vertical-align: middle;\n",
       "    }\n",
       "\n",
       "    .dataframe tbody tr th {\n",
       "        vertical-align: top;\n",
       "    }\n",
       "\n",
       "    .dataframe thead th {\n",
       "        text-align: right;\n",
       "    }\n",
       "</style>\n",
       "<table border=\"1\" class=\"dataframe\">\n",
       "  <thead>\n",
       "    <tr style=\"text-align: right;\">\n",
       "      <th></th>\n",
       "      <th>anime_id</th>\n",
       "      <th>name</th>\n",
       "      <th>genre</th>\n",
       "      <th>rating</th>\n",
       "      <th>user_id</th>\n",
       "      <th>rating_user</th>\n",
       "    </tr>\n",
       "  </thead>\n",
       "  <tbody>\n",
       "    <tr>\n",
       "      <th>0</th>\n",
       "      <td>32281</td>\n",
       "      <td>Kimi no Na wa.</td>\n",
       "      <td>Drama, Romance, School, Supernatural</td>\n",
       "      <td>9.37</td>\n",
       "      <td>99</td>\n",
       "      <td>5.0</td>\n",
       "    </tr>\n",
       "    <tr>\n",
       "      <th>1</th>\n",
       "      <td>32281</td>\n",
       "      <td>Kimi no Na wa.</td>\n",
       "      <td>Drama, Romance, School, Supernatural</td>\n",
       "      <td>9.37</td>\n",
       "      <td>152</td>\n",
       "      <td>10.0</td>\n",
       "    </tr>\n",
       "    <tr>\n",
       "      <th>2</th>\n",
       "      <td>32281</td>\n",
       "      <td>Kimi no Na wa.</td>\n",
       "      <td>Drama, Romance, School, Supernatural</td>\n",
       "      <td>9.37</td>\n",
       "      <td>244</td>\n",
       "      <td>10.0</td>\n",
       "    </tr>\n",
       "  </tbody>\n",
       "</table>\n",
       "</div>"
      ],
      "text/plain": [
       "   anime_id            name                                 genre  rating  \\\n",
       "0     32281  Kimi no Na wa.  Drama, Romance, School, Supernatural    9.37   \n",
       "1     32281  Kimi no Na wa.  Drama, Romance, School, Supernatural    9.37   \n",
       "2     32281  Kimi no Na wa.  Drama, Romance, School, Supernatural    9.37   \n",
       "\n",
       "   user_id  rating_user  \n",
       "0       99          5.0  \n",
       "1      152         10.0  \n",
       "2      244         10.0  "
      ]
     },
     "execution_count": 13,
     "metadata": {},
     "output_type": "execute_result"
    }
   ],
   "source": [
    "merged_data[\"rating_user\"].replace({-1: np.nan}, inplace=True)\n",
    "merged_data.head(3)"
   ]
  },
  {
   "cell_type": "markdown",
   "id": "0483524c",
   "metadata": {},
   "source": [
    "#### Filter out users who have rated less than 10 animes"
   ]
  },
  {
   "cell_type": "code",
   "execution_count": 14,
   "id": "8c5343dd",
   "metadata": {},
   "outputs": [
    {
     "data": {
      "text/plain": [
       "7813727"
      ]
     },
     "execution_count": 14,
     "metadata": {},
     "output_type": "execute_result"
    }
   ],
   "source": [
    "len(merged_data.index)"
   ]
  },
  {
   "cell_type": "code",
   "execution_count": 15,
   "id": "d2debd21",
   "metadata": {},
   "outputs": [
    {
     "data": {
      "text/html": [
       "<div>\n",
       "<style scoped>\n",
       "    .dataframe tbody tr th:only-of-type {\n",
       "        vertical-align: middle;\n",
       "    }\n",
       "\n",
       "    .dataframe tbody tr th {\n",
       "        vertical-align: top;\n",
       "    }\n",
       "\n",
       "    .dataframe thead th {\n",
       "        text-align: right;\n",
       "    }\n",
       "</style>\n",
       "<table border=\"1\" class=\"dataframe\">\n",
       "  <thead>\n",
       "    <tr style=\"text-align: right;\">\n",
       "      <th>name</th>\n",
       "      <th>0</th>\n",
       "      <th>001</th>\n",
       "      <th>009 Re:Cyborg</th>\n",
       "      <th>009-1</th>\n",
       "      <th>009-1: RandB</th>\n",
       "      <th>00:08</th>\n",
       "      <th>07-Ghost</th>\n",
       "      <th>1+2=Paradise</th>\n",
       "      <th>100%</th>\n",
       "      <th>100-man-nen Chikyuu no Tabi: Bander Book</th>\n",
       "      <th>...</th>\n",
       "      <th>lilac (bombs Jun Togawa)</th>\n",
       "      <th>makemagic</th>\n",
       "      <th>s.CRY.ed</th>\n",
       "      <th>vivi</th>\n",
       "      <th>xxxHOLiC</th>\n",
       "      <th>xxxHOLiC Kei</th>\n",
       "      <th>xxxHOLiC Movie: Manatsu no Yoru no Yume</th>\n",
       "      <th>xxxHOLiC Rou</th>\n",
       "      <th>xxxHOLiC Shunmuki</th>\n",
       "      <th>◯</th>\n",
       "    </tr>\n",
       "    <tr>\n",
       "      <th>user_id</th>\n",
       "      <th></th>\n",
       "      <th></th>\n",
       "      <th></th>\n",
       "      <th></th>\n",
       "      <th></th>\n",
       "      <th></th>\n",
       "      <th></th>\n",
       "      <th></th>\n",
       "      <th></th>\n",
       "      <th></th>\n",
       "      <th></th>\n",
       "      <th></th>\n",
       "      <th></th>\n",
       "      <th></th>\n",
       "      <th></th>\n",
       "      <th></th>\n",
       "      <th></th>\n",
       "      <th></th>\n",
       "      <th></th>\n",
       "      <th></th>\n",
       "      <th></th>\n",
       "    </tr>\n",
       "  </thead>\n",
       "  <tbody>\n",
       "    <tr>\n",
       "      <th>1</th>\n",
       "      <td>0.0</td>\n",
       "      <td>0.0</td>\n",
       "      <td>0.0</td>\n",
       "      <td>0.0</td>\n",
       "      <td>0.0</td>\n",
       "      <td>0.0</td>\n",
       "      <td>0.0</td>\n",
       "      <td>0.0</td>\n",
       "      <td>0.0</td>\n",
       "      <td>0.0</td>\n",
       "      <td>...</td>\n",
       "      <td>0.0</td>\n",
       "      <td>0.0</td>\n",
       "      <td>0.0</td>\n",
       "      <td>0.0</td>\n",
       "      <td>0.0</td>\n",
       "      <td>0.0</td>\n",
       "      <td>0.0</td>\n",
       "      <td>0.0</td>\n",
       "      <td>0.0</td>\n",
       "      <td>0.0</td>\n",
       "    </tr>\n",
       "    <tr>\n",
       "      <th>2</th>\n",
       "      <td>0.0</td>\n",
       "      <td>0.0</td>\n",
       "      <td>0.0</td>\n",
       "      <td>0.0</td>\n",
       "      <td>0.0</td>\n",
       "      <td>0.0</td>\n",
       "      <td>0.0</td>\n",
       "      <td>0.0</td>\n",
       "      <td>0.0</td>\n",
       "      <td>0.0</td>\n",
       "      <td>...</td>\n",
       "      <td>0.0</td>\n",
       "      <td>0.0</td>\n",
       "      <td>0.0</td>\n",
       "      <td>0.0</td>\n",
       "      <td>0.0</td>\n",
       "      <td>0.0</td>\n",
       "      <td>0.0</td>\n",
       "      <td>0.0</td>\n",
       "      <td>0.0</td>\n",
       "      <td>0.0</td>\n",
       "    </tr>\n",
       "    <tr>\n",
       "      <th>3</th>\n",
       "      <td>0.0</td>\n",
       "      <td>0.0</td>\n",
       "      <td>0.0</td>\n",
       "      <td>0.0</td>\n",
       "      <td>0.0</td>\n",
       "      <td>0.0</td>\n",
       "      <td>0.0</td>\n",
       "      <td>0.0</td>\n",
       "      <td>0.0</td>\n",
       "      <td>0.0</td>\n",
       "      <td>...</td>\n",
       "      <td>0.0</td>\n",
       "      <td>0.0</td>\n",
       "      <td>0.0</td>\n",
       "      <td>0.0</td>\n",
       "      <td>0.0</td>\n",
       "      <td>0.0</td>\n",
       "      <td>0.0</td>\n",
       "      <td>0.0</td>\n",
       "      <td>0.0</td>\n",
       "      <td>0.0</td>\n",
       "    </tr>\n",
       "    <tr>\n",
       "      <th>5</th>\n",
       "      <td>0.0</td>\n",
       "      <td>0.0</td>\n",
       "      <td>0.0</td>\n",
       "      <td>0.0</td>\n",
       "      <td>0.0</td>\n",
       "      <td>0.0</td>\n",
       "      <td>0.0</td>\n",
       "      <td>0.0</td>\n",
       "      <td>0.0</td>\n",
       "      <td>0.0</td>\n",
       "      <td>...</td>\n",
       "      <td>0.0</td>\n",
       "      <td>0.0</td>\n",
       "      <td>0.0</td>\n",
       "      <td>0.0</td>\n",
       "      <td>2.0</td>\n",
       "      <td>0.0</td>\n",
       "      <td>0.0</td>\n",
       "      <td>0.0</td>\n",
       "      <td>0.0</td>\n",
       "      <td>0.0</td>\n",
       "    </tr>\n",
       "    <tr>\n",
       "      <th>7</th>\n",
       "      <td>0.0</td>\n",
       "      <td>0.0</td>\n",
       "      <td>0.0</td>\n",
       "      <td>0.0</td>\n",
       "      <td>0.0</td>\n",
       "      <td>0.0</td>\n",
       "      <td>0.0</td>\n",
       "      <td>0.0</td>\n",
       "      <td>0.0</td>\n",
       "      <td>0.0</td>\n",
       "      <td>...</td>\n",
       "      <td>0.0</td>\n",
       "      <td>0.0</td>\n",
       "      <td>0.0</td>\n",
       "      <td>0.0</td>\n",
       "      <td>0.0</td>\n",
       "      <td>0.0</td>\n",
       "      <td>0.0</td>\n",
       "      <td>0.0</td>\n",
       "      <td>0.0</td>\n",
       "      <td>0.0</td>\n",
       "    </tr>\n",
       "  </tbody>\n",
       "</table>\n",
       "<p>5 rows × 9921 columns</p>\n",
       "</div>"
      ],
      "text/plain": [
       "name       0  001  009 Re:Cyborg  009-1  009-1: RandB  00:08  07-Ghost  \\\n",
       "user_id                                                                  \n",
       "1        0.0  0.0            0.0    0.0           0.0    0.0       0.0   \n",
       "2        0.0  0.0            0.0    0.0           0.0    0.0       0.0   \n",
       "3        0.0  0.0            0.0    0.0           0.0    0.0       0.0   \n",
       "5        0.0  0.0            0.0    0.0           0.0    0.0       0.0   \n",
       "7        0.0  0.0            0.0    0.0           0.0    0.0       0.0   \n",
       "\n",
       "name     1+2=Paradise  100%  100-man-nen Chikyuu no Tabi: Bander Book  ...  \\\n",
       "user_id                                                                ...   \n",
       "1                 0.0   0.0                                       0.0  ...   \n",
       "2                 0.0   0.0                                       0.0  ...   \n",
       "3                 0.0   0.0                                       0.0  ...   \n",
       "5                 0.0   0.0                                       0.0  ...   \n",
       "7                 0.0   0.0                                       0.0  ...   \n",
       "\n",
       "name     lilac (bombs Jun Togawa)  makemagic  s.CRY.ed  vivi  xxxHOLiC  \\\n",
       "user_id                                                                  \n",
       "1                             0.0        0.0       0.0   0.0       0.0   \n",
       "2                             0.0        0.0       0.0   0.0       0.0   \n",
       "3                             0.0        0.0       0.0   0.0       0.0   \n",
       "5                             0.0        0.0       0.0   0.0       2.0   \n",
       "7                             0.0        0.0       0.0   0.0       0.0   \n",
       "\n",
       "name     xxxHOLiC Kei  xxxHOLiC Movie: Manatsu no Yoru no Yume  xxxHOLiC Rou  \\\n",
       "user_id                                                                        \n",
       "1                 0.0                                      0.0           0.0   \n",
       "2                 0.0                                      0.0           0.0   \n",
       "3                 0.0                                      0.0           0.0   \n",
       "5                 0.0                                      0.0           0.0   \n",
       "7                 0.0                                      0.0           0.0   \n",
       "\n",
       "name     xxxHOLiC Shunmuki    ◯  \n",
       "user_id                          \n",
       "1                      0.0  0.0  \n",
       "2                      0.0  0.0  \n",
       "3                      0.0  0.0  \n",
       "5                      0.0  0.0  \n",
       "7                      0.0  0.0  \n",
       "\n",
       "[5 rows x 9921 columns]"
      ]
     },
     "execution_count": 15,
     "metadata": {},
     "output_type": "execute_result"
    }
   ],
   "source": [
    "anime_pivot=merged_data.pivot_table(index='user_id',columns='name',values='rating_user').fillna(0)\n",
    "anime_pivot.head()"
   ]
  },
  {
   "cell_type": "code",
   "execution_count": 16,
   "id": "78b77150",
   "metadata": {},
   "outputs": [
    {
     "data": {
      "text/plain": [
       "(69600, 9921)"
      ]
     },
     "execution_count": 16,
     "metadata": {},
     "output_type": "execute_result"
    }
   ],
   "source": [
    "anime_pivot.shape"
   ]
  },
  {
   "cell_type": "markdown",
   "id": "66ea27c0",
   "metadata": {},
   "source": [
    "#### Create a sparse matrix representation of the anime pivot table"
   ]
  },
  {
   "cell_type": "code",
   "execution_count": 17,
   "id": "344f3b84",
   "metadata": {},
   "outputs": [],
   "source": [
    "user_matrix = csr_matrix(anime_pivot.values)"
   ]
  },
  {
   "cell_type": "code",
   "execution_count": 18,
   "id": "246b2023",
   "metadata": {},
   "outputs": [
    {
     "data": {
      "text/plain": [
       "(69600, 9921)"
      ]
     },
     "execution_count": 18,
     "metadata": {},
     "output_type": "execute_result"
    }
   ],
   "source": [
    "user_matrix.shape"
   ]
  },
  {
   "cell_type": "markdown",
   "id": "06d967df",
   "metadata": {},
   "source": [
    "#### Function to find animes based on the user similarity"
   ]
  },
  {
   "cell_type": "code",
   "execution_count": 19,
   "id": "99cfee65",
   "metadata": {},
   "outputs": [],
   "source": [
    "def suggest_new_anime(user_id):\n",
    "    \"\"\"\n",
    "    Suggests new anime recommendations for a given user based on their similarity to other users.\n",
    "\n",
    "    Parameters:\n",
    "    user_id (int): The ID of the user for whom anime recommendations are to be generated.\n",
    "\n",
    "    Returns:\n",
    "    pandas.DataFrame: A DataFrame containing the top 5 anime recommendations for the user. The DataFrame includes columns for anime title, genre, and rating.\n",
    "    \"\"\"\n",
    "    try:\n",
    "        user_index = anime_pivot.index.get_loc(user_id)\n",
    "    except KeyError:\n",
    "        print(\"User not found. Please try again.\")\n",
    "        return\n",
    "    \n",
    "    \n",
    "    user_row = user_matrix[user_index]    \n",
    "        \n",
    "    cosine_sim = cosine_similarity(user_row,user_matrix)\n",
    "    cos_scores = list(enumerate(cosine_sim[0]))\n",
    "    cos_scores = [score for score in cos_scores if score[0] != user_index]\n",
    "    cos_scores = sorted(cos_scores, key=lambda x: x[1], reverse=True)\n",
    "    \n",
    "    cos_indices = [i[0] for i in cos_scores]    \n",
    "    similar_user_ids = [cos_indices[i] for i in range(len(cos_indices)) if cos_scores[i][1] > 0.60]\n",
    "    unseen_anime_names = list(anime_pivot.columns[(anime_pivot.loc[user_id] == 0) & (anime_pivot.iloc[similar_user_ids].sum(axis=0) > 0)])\n",
    "    \n",
    "    unseen_anime_df = anime_df[['name', 'genre', 'rating']].loc[anime_df['name'].isin(unseen_anime_names)]\n",
    "    cos_df = pd.DataFrame({'Anime Title': unseen_anime_df['name'],\n",
    "                           'Genre': unseen_anime_df['genre'],\n",
    "                           'Rating': unseen_anime_df['rating']})\n",
    "    return cos_df[:5]"
   ]
  },
  {
   "cell_type": "code",
   "execution_count": 20,
   "id": "5a33155f",
   "metadata": {},
   "outputs": [
    {
     "data": {
      "text/html": [
       "<div>\n",
       "<style scoped>\n",
       "    .dataframe tbody tr th:only-of-type {\n",
       "        vertical-align: middle;\n",
       "    }\n",
       "\n",
       "    .dataframe tbody tr th {\n",
       "        vertical-align: top;\n",
       "    }\n",
       "\n",
       "    .dataframe thead th {\n",
       "        text-align: right;\n",
       "    }\n",
       "</style>\n",
       "<table border=\"1\" class=\"dataframe\">\n",
       "  <thead>\n",
       "    <tr style=\"text-align: right;\">\n",
       "      <th></th>\n",
       "      <th>Anime Title</th>\n",
       "      <th>Genre</th>\n",
       "      <th>Rating</th>\n",
       "    </tr>\n",
       "  </thead>\n",
       "  <tbody>\n",
       "    <tr>\n",
       "      <th>1</th>\n",
       "      <td>Fullmetal Alchemist: Brotherhood</td>\n",
       "      <td>Action, Adventure, Drama, Fantasy, Magic, Mili...</td>\n",
       "      <td>9.26</td>\n",
       "    </tr>\n",
       "    <tr>\n",
       "      <th>3</th>\n",
       "      <td>Steins;Gate</td>\n",
       "      <td>Sci-Fi, Thriller</td>\n",
       "      <td>9.17</td>\n",
       "    </tr>\n",
       "    <tr>\n",
       "      <th>30</th>\n",
       "      <td>Great Teacher Onizuka</td>\n",
       "      <td>Comedy, Drama, School, Shounen, Slice of Life</td>\n",
       "      <td>8.77</td>\n",
       "    </tr>\n",
       "    <tr>\n",
       "      <th>141</th>\n",
       "      <td>Nanatsu no Taizai</td>\n",
       "      <td>Action, Adventure, Ecchi, Fantasy, Shounen, Su...</td>\n",
       "      <td>8.42</td>\n",
       "    </tr>\n",
       "    <tr>\n",
       "      <th>159</th>\n",
       "      <td>Angel Beats!</td>\n",
       "      <td>Action, Comedy, Drama, School, Supernatural</td>\n",
       "      <td>8.39</td>\n",
       "    </tr>\n",
       "  </tbody>\n",
       "</table>\n",
       "</div>"
      ],
      "text/plain": [
       "                          Anime Title  \\\n",
       "1    Fullmetal Alchemist: Brotherhood   \n",
       "3                         Steins;Gate   \n",
       "30              Great Teacher Onizuka   \n",
       "141                 Nanatsu no Taizai   \n",
       "159                      Angel Beats!   \n",
       "\n",
       "                                                 Genre  Rating  \n",
       "1    Action, Adventure, Drama, Fantasy, Magic, Mili...    9.26  \n",
       "3                                     Sci-Fi, Thriller    9.17  \n",
       "30       Comedy, Drama, School, Shounen, Slice of Life    8.77  \n",
       "141  Action, Adventure, Ecchi, Fantasy, Shounen, Su...    8.42  \n",
       "159        Action, Comedy, Drama, School, Supernatural    8.39  "
      ]
     },
     "execution_count": 20,
     "metadata": {},
     "output_type": "execute_result"
    }
   ],
   "source": [
    "cos_df=suggest_new_anime(1)\n",
    "cos_df"
   ]
  },
  {
   "cell_type": "code",
   "execution_count": 21,
   "id": "54cec94d",
   "metadata": {},
   "outputs": [],
   "source": [
    "end_time = time.time()"
   ]
  },
  {
   "cell_type": "code",
   "execution_count": 22,
   "id": "efa66c2b",
   "metadata": {},
   "outputs": [
    {
     "name": "stdout",
     "output_type": "stream",
     "text": [
      "Total execution time is 65.37 seconds\n"
     ]
    }
   ],
   "source": [
    "total = end_time - start_time\n",
    "print(\"Total execution time is {:.2f} seconds\".format(total))"
   ]
  }
 ],
 "metadata": {
  "kernelspec": {
   "display_name": "Python 3 (ipykernel)",
   "language": "python",
   "name": "python3"
  },
  "language_info": {
   "codemirror_mode": {
    "name": "ipython",
    "version": 3
   },
   "file_extension": ".py",
   "mimetype": "text/x-python",
   "name": "python",
   "nbconvert_exporter": "python",
   "pygments_lexer": "ipython3",
   "version": "3.9.12"
  }
 },
 "nbformat": 4,
 "nbformat_minor": 5
}
